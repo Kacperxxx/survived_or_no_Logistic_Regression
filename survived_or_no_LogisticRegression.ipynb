{
 "cells": [
  {
   "cell_type": "code",
   "execution_count": 137,
   "id": "add11881",
   "metadata": {},
   "outputs": [
    {
     "data": {
      "text/html": [
       "<div>\n",
       "<style scoped>\n",
       "    .dataframe tbody tr th:only-of-type {\n",
       "        vertical-align: middle;\n",
       "    }\n",
       "\n",
       "    .dataframe tbody tr th {\n",
       "        vertical-align: top;\n",
       "    }\n",
       "\n",
       "    .dataframe thead th {\n",
       "        text-align: right;\n",
       "    }\n",
       "</style>\n",
       "<table border=\"1\" class=\"dataframe\">\n",
       "  <thead>\n",
       "    <tr style=\"text-align: right;\">\n",
       "      <th></th>\n",
       "      <th>Survived</th>\n",
       "      <th>PassengerId</th>\n",
       "      <th>Pclass</th>\n",
       "      <th>Name</th>\n",
       "      <th>Sex</th>\n",
       "      <th>Age</th>\n",
       "      <th>SibSp</th>\n",
       "      <th>Parch</th>\n",
       "      <th>Ticket</th>\n",
       "      <th>Fare</th>\n",
       "      <th>Cabin</th>\n",
       "      <th>Embarked</th>\n",
       "    </tr>\n",
       "  </thead>\n",
       "  <tbody>\n",
       "    <tr>\n",
       "      <th>0</th>\n",
       "      <td>0</td>\n",
       "      <td>530</td>\n",
       "      <td>2</td>\n",
       "      <td>Hocking\\t Mr. Richard George</td>\n",
       "      <td>male</td>\n",
       "      <td>23.0</td>\n",
       "      <td>2</td>\n",
       "      <td>1</td>\n",
       "      <td>29104</td>\n",
       "      <td>11.5000</td>\n",
       "      <td>NaN</td>\n",
       "      <td>S</td>\n",
       "    </tr>\n",
       "    <tr>\n",
       "      <th>1</th>\n",
       "      <td>0</td>\n",
       "      <td>466</td>\n",
       "      <td>3</td>\n",
       "      <td>Goncalves\\t Mr. Manuel Estanslas</td>\n",
       "      <td>male</td>\n",
       "      <td>38.0</td>\n",
       "      <td>0</td>\n",
       "      <td>0</td>\n",
       "      <td>SOTON/O.Q. 3101306</td>\n",
       "      <td>7.0500</td>\n",
       "      <td>NaN</td>\n",
       "      <td>S</td>\n",
       "    </tr>\n",
       "    <tr>\n",
       "      <th>2</th>\n",
       "      <td>0</td>\n",
       "      <td>753</td>\n",
       "      <td>3</td>\n",
       "      <td>Vande Velde\\t Mr. Johannes Joseph</td>\n",
       "      <td>male</td>\n",
       "      <td>33.0</td>\n",
       "      <td>0</td>\n",
       "      <td>0</td>\n",
       "      <td>345780</td>\n",
       "      <td>9.5000</td>\n",
       "      <td>NaN</td>\n",
       "      <td>S</td>\n",
       "    </tr>\n",
       "    <tr>\n",
       "      <th>3</th>\n",
       "      <td>0</td>\n",
       "      <td>855</td>\n",
       "      <td>2</td>\n",
       "      <td>Carter\\t Mrs. Ernest Courtenay (Lilian Hughes)</td>\n",
       "      <td>female</td>\n",
       "      <td>44.0</td>\n",
       "      <td>1</td>\n",
       "      <td>0</td>\n",
       "      <td>244252</td>\n",
       "      <td>26.0000</td>\n",
       "      <td>NaN</td>\n",
       "      <td>S</td>\n",
       "    </tr>\n",
       "    <tr>\n",
       "      <th>4</th>\n",
       "      <td>0</td>\n",
       "      <td>333</td>\n",
       "      <td>1</td>\n",
       "      <td>Graham\\t Mr. George Edward</td>\n",
       "      <td>male</td>\n",
       "      <td>38.0</td>\n",
       "      <td>0</td>\n",
       "      <td>1</td>\n",
       "      <td>PC 17582</td>\n",
       "      <td>153.4625</td>\n",
       "      <td>C91</td>\n",
       "      <td>S</td>\n",
       "    </tr>\n",
       "    <tr>\n",
       "      <th>...</th>\n",
       "      <td>...</td>\n",
       "      <td>...</td>\n",
       "      <td>...</td>\n",
       "      <td>...</td>\n",
       "      <td>...</td>\n",
       "      <td>...</td>\n",
       "      <td>...</td>\n",
       "      <td>...</td>\n",
       "      <td>...</td>\n",
       "      <td>...</td>\n",
       "      <td>...</td>\n",
       "      <td>...</td>\n",
       "    </tr>\n",
       "    <tr>\n",
       "      <th>618</th>\n",
       "      <td>0</td>\n",
       "      <td>660</td>\n",
       "      <td>1</td>\n",
       "      <td>Newell\\t Mr. Arthur Webster</td>\n",
       "      <td>male</td>\n",
       "      <td>58.0</td>\n",
       "      <td>0</td>\n",
       "      <td>2</td>\n",
       "      <td>35273</td>\n",
       "      <td>113.2750</td>\n",
       "      <td>D48</td>\n",
       "      <td>C</td>\n",
       "    </tr>\n",
       "    <tr>\n",
       "      <th>619</th>\n",
       "      <td>1</td>\n",
       "      <td>85</td>\n",
       "      <td>2</td>\n",
       "      <td>Ilett\\t Miss. Bertha</td>\n",
       "      <td>female</td>\n",
       "      <td>17.0</td>\n",
       "      <td>0</td>\n",
       "      <td>0</td>\n",
       "      <td>SO/C 14885</td>\n",
       "      <td>10.5000</td>\n",
       "      <td>NaN</td>\n",
       "      <td>S</td>\n",
       "    </tr>\n",
       "    <tr>\n",
       "      <th>620</th>\n",
       "      <td>1</td>\n",
       "      <td>521</td>\n",
       "      <td>1</td>\n",
       "      <td>Perreault\\t Miss. Anne</td>\n",
       "      <td>female</td>\n",
       "      <td>30.0</td>\n",
       "      <td>0</td>\n",
       "      <td>0</td>\n",
       "      <td>12749</td>\n",
       "      <td>93.5000</td>\n",
       "      <td>B73</td>\n",
       "      <td>S</td>\n",
       "    </tr>\n",
       "    <tr>\n",
       "      <th>621</th>\n",
       "      <td>1</td>\n",
       "      <td>644</td>\n",
       "      <td>3</td>\n",
       "      <td>Foo\\t Mr. Choong</td>\n",
       "      <td>male</td>\n",
       "      <td>NaN</td>\n",
       "      <td>0</td>\n",
       "      <td>0</td>\n",
       "      <td>1601</td>\n",
       "      <td>56.4958</td>\n",
       "      <td>NaN</td>\n",
       "      <td>S</td>\n",
       "    </tr>\n",
       "    <tr>\n",
       "      <th>622</th>\n",
       "      <td>1</td>\n",
       "      <td>831</td>\n",
       "      <td>3</td>\n",
       "      <td>Yasbeck\\t Mrs. Antoni (Selini Alexander)</td>\n",
       "      <td>female</td>\n",
       "      <td>15.0</td>\n",
       "      <td>1</td>\n",
       "      <td>0</td>\n",
       "      <td>2659</td>\n",
       "      <td>14.4542</td>\n",
       "      <td>NaN</td>\n",
       "      <td>C</td>\n",
       "    </tr>\n",
       "  </tbody>\n",
       "</table>\n",
       "<p>623 rows × 12 columns</p>\n",
       "</div>"
      ],
      "text/plain": [
       "     Survived  PassengerId  Pclass  \\\n",
       "0           0          530       2   \n",
       "1           0          466       3   \n",
       "2           0          753       3   \n",
       "3           0          855       2   \n",
       "4           0          333       1   \n",
       "..        ...          ...     ...   \n",
       "618         0          660       1   \n",
       "619         1           85       2   \n",
       "620         1          521       1   \n",
       "621         1          644       3   \n",
       "622         1          831       3   \n",
       "\n",
       "                                               Name     Sex   Age  SibSp  \\\n",
       "0                      Hocking\\t Mr. Richard George    male  23.0      2   \n",
       "1                  Goncalves\\t Mr. Manuel Estanslas    male  38.0      0   \n",
       "2                 Vande Velde\\t Mr. Johannes Joseph    male  33.0      0   \n",
       "3    Carter\\t Mrs. Ernest Courtenay (Lilian Hughes)  female  44.0      1   \n",
       "4                        Graham\\t Mr. George Edward    male  38.0      0   \n",
       "..                                              ...     ...   ...    ...   \n",
       "618                     Newell\\t Mr. Arthur Webster    male  58.0      0   \n",
       "619                            Ilett\\t Miss. Bertha  female  17.0      0   \n",
       "620                          Perreault\\t Miss. Anne  female  30.0      0   \n",
       "621                                Foo\\t Mr. Choong    male   NaN      0   \n",
       "622        Yasbeck\\t Mrs. Antoni (Selini Alexander)  female  15.0      1   \n",
       "\n",
       "     Parch              Ticket      Fare Cabin Embarked  \n",
       "0        1               29104   11.5000   NaN        S  \n",
       "1        0  SOTON/O.Q. 3101306    7.0500   NaN        S  \n",
       "2        0              345780    9.5000   NaN        S  \n",
       "3        0              244252   26.0000   NaN        S  \n",
       "4        1            PC 17582  153.4625   C91        S  \n",
       "..     ...                 ...       ...   ...      ...  \n",
       "618      2               35273  113.2750   D48        C  \n",
       "619      0          SO/C 14885   10.5000   NaN        S  \n",
       "620      0               12749   93.5000   B73        S  \n",
       "621      0                1601   56.4958   NaN        S  \n",
       "622      0                2659   14.4542   NaN        C  \n",
       "\n",
       "[623 rows x 12 columns]"
      ]
     },
     "execution_count": 137,
     "metadata": {},
     "output_type": "execute_result"
    }
   ],
   "source": [
    "#Importing libraries and loading a data file\n",
    "import matplotlib.pyplot as plt\n",
    "import seaborn as sns\n",
    "import numpy as np\n",
    "import pandas as pd\n",
    "from sklearn.linear_model import LogisticRegression\n",
    "from sklearn.model_selection import train_test_split\n",
    "from sklearn.metrics import precision_recall_fscore_support\n",
    "from sklearn.metrics import classification_report\n",
    "\n",
    "data = pd.read_csv(\"titanic.tsv\", sep=\"\\t\")\n",
    "data"
   ]
  },
  {
   "cell_type": "markdown",
   "id": "5bc0c80d",
   "metadata": {},
   "source": [
    "CHECKING EACH UNIQUE VALUES IN COLUMNS TO FIND COLUMNS WHERE THERE ARE NULL VALUES"
   ]
  },
  {
   "cell_type": "markdown",
   "id": "58cca9c6",
   "metadata": {},
   "source": [
    "CHECKING UNIQUE VALUES IN SURVIVED COLUMN"
   ]
  },
  {
   "cell_type": "code",
   "execution_count": 138,
   "id": "d217d1e9",
   "metadata": {},
   "outputs": [
    {
     "name": "stdout",
     "output_type": "stream",
     "text": [
      "Survived values: \n",
      "[0, 1]\n"
     ]
    }
   ],
   "source": [
    "Survived_values = list(pd.unique(data[\"Survived\"]))\n",
    "print(\"Survived values: \")\n",
    "print(Survived_values)"
   ]
  },
  {
   "cell_type": "markdown",
   "id": "db47e615",
   "metadata": {},
   "source": [
    "CHECKING UNIQUE VALUES IN PASSENGERID COLUMN"
   ]
  },
  {
   "cell_type": "code",
   "execution_count": 139,
   "id": "425c6d37",
   "metadata": {},
   "outputs": [
    {
     "name": "stdout",
     "output_type": "stream",
     "text": [
      "Passengerid values: \n",
      "[530, 466, 753, 855, 333, 39, 236, 303, 18, 505, 670, 316, 690, 718, 580, 697, 193, 634, 858, 329, 784, 407, 747, 492, 534, 862, 724, 685, 344, 751, 734, 496, 296, 516, 282, 218, 107, 878, 291, 722, 826, 434, 404, 210, 166, 201, 361, 53, 612, 60, 262, 674, 63, 215, 618, 789, 312, 113, 314, 517, 174, 803, 479, 445, 684, 597, 229, 121, 526, 360, 20, 28, 761, 487, 385, 364, 124, 165, 668, 596, 845, 510, 135, 196, 377, 745, 729, 661, 437, 9, 835, 794, 891, 851, 854, 552, 671, 228, 763, 591, 155, 104, 443, 592, 584, 277, 514, 83, 856, 390, 579, 500, 412, 687, 73, 887, 503, 41, 654, 484, 426, 438, 625, 114, 614, 731, 675, 712, 657, 848, 809, 577, 343, 252, 518, 515, 327, 144, 629, 469, 199, 459, 485, 349, 716, 742, 520, 764, 19, 563, 331, 251, 850, 778, 458, 457, 433, 743, 741, 234, 57, 816, 56, 169, 168, 158, 270, 243, 240, 177, 608, 587, 508, 648, 255, 602, 136, 464, 570, 126, 721, 31, 261, 621, 838, 68, 392, 450, 873, 11, 187, 795, 780, 509, 285, 34, 172, 447, 537, 386, 410, 371, 556, 730, 416, 77, 365, 562, 287, 127, 64, 80, 879, 88, 191, 860, 244, 74, 268, 148, 118, 87, 814, 10, 120, 829, 406, 419, 299, 711, 601, 842, 475, 452, 313, 593, 532, 29, 820, 744, 512, 470, 206, 755, 781, 33, 571, 746, 294, 208, 154, 267, 317, 620, 559, 37, 265, 477, 219, 30, 853, 409, 328, 321, 22, 110, 490, 315, 162, 736, 543, 3, 767, 533, 598, 667, 335, 585, 27, 564, 117, 834, 461, 395, 82, 2, 130, 566, 480, 456, 528, 72, 308, 129, 550, 773, 347, 131, 373, 339, 241, 227, 221, 350, 164, 75, 785, 560, 69, 13, 519, 115, 565, 659, 185, 375, 232, 248, 421, 394, 616, 149, 292, 374, 623, 759, 48, 224, 302, 183, 678, 663, 488, 379, 776, 357, 454, 52, 640, 325, 541, 442, 363, 334, 797, 159, 226, 669, 636, 341, 306, 106, 253, 139, 133, 652, 414, 811, 551, 378, 578, 279, 493, 286, 123, 175, 391, 511, 802, 346, 142, 568, 817, 847, 417, 766, 408, 103, 266, 737, 26, 679, 774, 538, 198, 818, 143, 782, 51, 12, 595, 513, 610, 304, 323, 280, 397, 886, 682, 38, 696, 231, 681, 310, 348, 758, 633, 793, 605, 491, 613, 16, 288, 619, 59, 276, 750, 733, 471, 247, 205, 98, 318, 91, 783, 76, 506, 43, 867, 606, 62, 134, 762, 195, 720, 583, 483, 396, 100, 772, 81, 188, 576, 324, 427, 586, 557, 572, 96, 713, 141, 55, 368, 387, 376, 194, 643, 44, 40, 588, 380, 423, 600, 542, 535, 804, 866, 504, 647, 749, 821, 787, 184, 852, 558, 163, 455, 220, 245, 422, 884, 453, 841, 264, 381, 24, 708, 15, 703, 549, 54, 495, 686, 116, 105, 738, 798, 615, 815, 161, 863, 574, 498, 58, 237, 882, 788, 693, 673, 478, 322, 800, 739, 1, 883, 546, 756, 501, 35, 156, 212, 704, 877, 719, 474, 870, 71, 353, 301, 489, 627, 522, 527, 638, 340, 830, 525, 111, 796, 140, 844, 92, 770, 715, 849, 864, 305, 709, 449, 216, 430, 203, 284, 822, 792, 370, 233, 25, 653, 289, 473, 523, 6, 153, 260, 672, 868, 17, 147, 581, 732, 356, 372, 94, 791, 167, 297, 632, 801, 569, 664, 330, 642, 398, 700, 78, 699, 428, 70, 846, 768, 646, 497, 617, 181, 65, 779, 342, 553, 207, 319, 358, 178, 213, 462, 170, 865, 217, 66, 389, 293, 214, 326, 283, 481, 192, 345, 609, 660, 85, 521, 644, 831]\n",
      "623\n"
     ]
    }
   ],
   "source": [
    "PassengerId_values = list(pd.unique(data[\"PassengerId\"]))\n",
    "print(\"Passengerid values: \")\n",
    "print(PassengerId_values)\n",
    "print(len(PassengerId_values))"
   ]
  },
  {
   "cell_type": "markdown",
   "id": "a755647f",
   "metadata": {},
   "source": [
    "CHECKING UNIQUE VALUES IN SEX COLUMN"
   ]
  },
  {
   "cell_type": "code",
   "execution_count": 140,
   "id": "6c48f889",
   "metadata": {},
   "outputs": [
    {
     "name": "stdout",
     "output_type": "stream",
     "text": [
      "Sex values: \n",
      "['male', 'female']\n"
     ]
    }
   ],
   "source": [
    "Sex_values = list(pd.unique(data[\"Sex\"]))\n",
    "print(\"Sex values: \")\n",
    "print(Sex_values)"
   ]
  },
  {
   "cell_type": "markdown",
   "id": "1b1fb507",
   "metadata": {},
   "source": [
    "CHECKING UNIQUE VALUES IN PCLASS COLUMN"
   ]
  },
  {
   "cell_type": "code",
   "execution_count": 141,
   "id": "6e1655f1",
   "metadata": {},
   "outputs": [
    {
     "name": "stdout",
     "output_type": "stream",
     "text": [
      "Pclass values:\n",
      "[2, 3, 1]\n"
     ]
    }
   ],
   "source": [
    "Pclass_values = list(pd.unique(data[\"Pclass\"]))\n",
    "print(\"Pclass values:\")\n",
    "print(Pclass_values)"
   ]
  },
  {
   "cell_type": "markdown",
   "id": "14a1061b",
   "metadata": {},
   "source": [
    "CHECKING UNIQUE VALUES IN AGE COLUMN"
   ]
  },
  {
   "cell_type": "code",
   "execution_count": 142,
   "id": "d07f83f4",
   "metadata": {},
   "outputs": [
    {
     "name": "stdout",
     "output_type": "stream",
     "text": [
      "Age values: \n",
      "[23.0, 38.0, 33.0, 44.0, 18.0, nan, 19.0, 16.0, 26.0, 15.0, 27.0, 32.0, 51.0, 31.0, 21.0, 50.0, 60.0, 25.0, 4.0, 47.0, 28.0, 42.0, 17.0, 40.0, 9.0, 49.0, 11.0, 3.0, 45.0, 1.0, 22.0, 34.0, 14.0, 40.5, 35.0, 32.5, 36.0, 58.0, 20.5, 20.0, 52.0, 54.0, 24.0, 63.0, 29.0, 39.0, 61.0, 5.0, 65.0, 30.0, 56.0, 41.0, 48.0, 12.0, 6.0, 43.0, 66.0, 13.0, 62.0, 2.0, 10.0, 0.75, 70.0, 28.5, 70.5, 8.0, 57.0, 36.5, 0.92, 7.0, 55.0, 37.0, 53.0, 0.42, 74.0, 30.5, 64.0, 0.67, 34.5, 59.0, 55.5, 23.5, 46.0]\n"
     ]
    }
   ],
   "source": [
    "Age_values = list(pd.unique(data[\"Age\"]))\n",
    "print(\"Age values: \")\n",
    "print(Age_values)"
   ]
  },
  {
   "cell_type": "markdown",
   "id": "54e7b7ee",
   "metadata": {},
   "source": [
    "CHECKING UNIQUE VALUES IN SIBSP COLUMN"
   ]
  },
  {
   "cell_type": "code",
   "execution_count": 143,
   "id": "1cecfbb3",
   "metadata": {},
   "outputs": [
    {
     "name": "stdout",
     "output_type": "stream",
     "text": [
      "SibSp values: \n",
      "[2, 0, 1, 5, 4, 3, 8]\n"
     ]
    }
   ],
   "source": [
    "SibSp_values = list(pd.unique(data['SibSp']))\n",
    "print(\"SibSp values: \")\n",
    "print(SibSp_values)"
   ]
  },
  {
   "cell_type": "markdown",
   "id": "5f29df63",
   "metadata": {},
   "source": [
    "CHECKING UNIQUE VALUES IN PARCH COLUMN"
   ]
  },
  {
   "cell_type": "code",
   "execution_count": 144,
   "id": "57905fe7",
   "metadata": {},
   "outputs": [
    {
     "name": "stdout",
     "output_type": "stream",
     "text": [
      "Parch values: \n",
      "[1, 0, 2, 4, 3, 5, 6]\n"
     ]
    }
   ],
   "source": [
    "Parch_values = list(pd.unique(data[\"Parch\"]))\n",
    "print(\"Parch values: \")\n",
    "print(Parch_values)"
   ]
  },
  {
   "cell_type": "markdown",
   "id": "441a6c85",
   "metadata": {},
   "source": [
    "CHECKING UNIQUE VALUES IN TICKET COLUMN"
   ]
  },
  {
   "cell_type": "code",
   "execution_count": 145,
   "id": "3de324d7",
   "metadata": {},
   "outputs": [
    {
     "name": "stdout",
     "output_type": "stream",
     "text": [
      "Ticket values: \n",
      "['29104', 'SOTON/O.Q. 3101306', '345780', '244252', 'PC 17582', '345764', 'W./C. 6609', 'LINE', '244373', '110152', '19996', '347470', '24160', '34218', 'STON/O 2. 3101286', '363592', '350046', '112052', '113055', '363291', 'W./C. 6607', '347064', 'C.A. 2673', 'SOTON/OQ 3101317', '2668', '28134', '250643', '29750', '244361', '29103', '28425', '2627', 'PC 17612', '36967', '347464', '243847', '343120', '349212', '19877', '350048', '368323', 'STON/O 2. 3101274', 'STON/O2. 3101279', '112277', '345770', '347088', 'PC 17572', 'SOTON/O.Q. 3101305', 'CA 2144', '347077', '244270', '36973', '367229', 'A/5. 3336', 'C.A. 2315', 'PC 17608', '324669', '349243', 'C.A. 34260', 'STON/O 2. 3101280', '113760', '350060', '65306', '248727', '236171', 'S.O.C. 14879', '367232', '330980', '2649', '19950', '358585', '19943', '349227', 'SOTON/O.Q. 3101310', '27267', '3101295', '312993', '345773', '315090', '1601', 'C.A. 29178', 'PC 17569', 'C 7077', 'STON/O 2. 3101288', '236853', 'PC 17611', 'W./C. 6608', '347742', '2223', 'PC 17600', '370376', '347082', 'PC 17592', '244358', 'A/5 21173', '2663', 'STON/O 2. 3101273', 'Fa 265302', '7540', '347076', '36947', '13049', '347073', 'PC 17603', '330932', '392091', 'SC 1748', '2689', '350035', '394140', '211536', '330909', '7546', '330919', '4134', 'A/4. 34244', '29106', '54636', '4136', '370377', '239856', '113028', '349223', '349213', '248723', '243880', '248740', '347054', '371110', '349209', '345364', '365222', '349224', '36209', '370370', 'F.C.C. 13531', '11967', 'C.A. 37671', '348124', '349242', '345763', '218629', '367226', '362316', '17453', '364516', '17464', '13509', 'SC/AH 3085', '16988', 'C.A. 31026', '112058', '19947', 'PC 17318', 'SOTON/OQ 392090', 'PC 17760', 'W./C. 14263', 'SCO/W 1585', '4133', '113804', '237565', '111427', '13213', '370129', '349214', 'SC/PARIS 2133', '234360', '350417', '2651', 'PC 17601', '384461', '2659', '392092', 'S.P. 3464', '350034', '113786', '695', 'PP 9549', '370365', '349203', 'C 4001', '113056', 'C.A. 24579', '382652', '250644', '113050', '11765', '113807', 'STON/O2. 3101271', '343095', '349208', '349251', '345774', '370372', '349217', 'SOTON/OQ 392086', '234604', '2629', 'STON/O 2. 3101275', '2680', '347083', '11668', '237736', '367228', '28664', '28228', '19988', 'PC 17482', 'S.O./P.P. 3', '7553', '65303', '250651', 'A/5 3902', '2641', '330959', '376566', 'SOTON/OQ 3101316', '2666', '220845', '2687', '335677', 'S.W./PP 752', 'WE/P 5735', '349236', '2699', 'A/5. 851', '244367', '31028', '110413', '2677', '382649', '31027', '11813', '349216', '2678', '312992', '28551', 'A/5 21172', '248698', 'F.C.C. 13529', 'C.A. 33595', 'STON/O2. 3101282', '112379', '2690', '234686', '3411', '2631', 'SOTON/OQ 392082', '370369', '347468', '19952', '345779', 'PC 17599', '347061', 'A/4 48871', '3101298', '349240', 'PC 17483', 'PC 17758', 'C.A. 33112', '31418', '349241', '323951', '7598', '2665', 'SW/PP 751', 'SOTON/OQ 392089', '315088', '315093', 'SOTON/O.Q. 3101312', '345572', '3101281', 'A/5. 2151', '226875', 'SOTON/O.Q. 392087', '29751', '315153', '349909', '347067', '250649', '349254', '35273', '230080', '2653', '363294', '14311', '349234', '4138', '5727', '11771', '2648', '347078', '113505', 'A/4. 39886', '376564', 'CA. 2343', '345769', '2691', '17465', '315037', 'PP 4348', 'A/5 3536', '237668', '113781', '349207', '113514', '7534', 'A/5. 3337', '231919', '239853', '3474', '17421', '113503', '13507', '113787', '349239', '17764', '382651', 'C.A. 31921', '248733', '347081', 'STON/O2. 3101290', '28220', '13502', '35281', 'C.A. 17248', '2674', 'PC 17761', '4579', 'S.C./PARIS 2079', '17474', '113783', 'SC/AH 29037', 'PC 17473', '226593', '234818', '350407', 'A./5. 2152', '248731', '330935', 'PC 17485', '386525', '29108', '13214', '111426', '65304', '367230', '248706', '349206', '230136', 'C.A. 34651', '335097', '239855', '323592', '347071', 'A/5 3540', 'PC 17759', '29011', '343276', '113501', '348123', '349253', 'SC/PARIS 2149', '349910', '113572', '228414', 'SOTON/O2 3101272', 'PC 17610', '347062', '28403', 'A/5 3594', '350052', '350047', '345767', '111428', '248738', '2003', '11755', '11769', '374910', '113509', '2626', 'PC 17604', 'SC/Paris 2123', '13567', '347069', '315082', '315084', '2625', '236852', '4135', '349231', '113773', '12749', '3101265', '347060', 'PC 17757', '347068', 'A/5 2817', 'W/C 14208', '2694', 'A/5. 13032', 'C.A./SOTON 34068', '113051', 'SOTON/O2 3101287', '112059', '113788', 'PC 17476', '350406', '2926', 'A/4 45380', 'STON/O 2. 3101294', '3101276', 'PC 17755', '349244', '364512', '364499', '371362', '17466', '14312', 'C.A. 6212', '2697', '26707', '349257', 'C.A. 24580', '3460', '349219', '349201', 'A/5 21171', '7552', '693', '315086', 'PC 17597', 'F.C.C. 13528', '36864', '36568', 'SC/AH Basle 541', 'C.A. 33111', '2695', '9234', 'A.5. 18509', '219533', '349252', 'W./C. 14258', '113784', '2700', '110465', '28213', 'PC 17593', '2683', '347466', '8471', '250647', 'A/5 2466', 'SOTON/O.Q. 392078', '3101264', 'A/5. 10482', '315098', '239865', 'PC 17477', '237442', '8475', '237798', '2624', '330877', 'A.5. 11206', '230433', 'F.C. 12750', 'PC 17590', '350043', '237789', '345783', '3101267', '12460', '2693', '347743', '2686', '349210', '111361', '348121', '374746', '250655', '315151', 'C.A. 5547', '364850', '347080', 'PC 17605', '36865', '330979', '3101278', '36928', '237671', 'PC 17595', 'A/5 21174', '364506', '233866', 'STON/O2. 3101283', '2661', '367655', 'SC/Paris 2163', '250646', '345778', '28424', '229236', 'SO/C 14885']\n",
      "Ilość biletów: \n",
      "505\n"
     ]
    }
   ],
   "source": [
    "Ticket_values = list(pd.unique(data[\"Ticket\"]))\n",
    "print(\"Ticket values: \")\n",
    "print(Ticket_values)\n",
    "print(\"Ilość biletów: \")\n",
    "print(len(Ticket_values))"
   ]
  },
  {
   "cell_type": "markdown",
   "id": "d876a0eb",
   "metadata": {},
   "source": [
    "CHECKING UNIQUE VALUES IN FARE COLUMN"
   ]
  },
  {
   "cell_type": "code",
   "execution_count": 146,
   "id": "a2798f35",
   "metadata": {},
   "outputs": [
    {
     "name": "stdout",
     "output_type": "stream",
     "text": [
      "Fare values: \n",
      "[11.5, 7.05, 9.5, 26.0, 153.4625, 18.0, 7.55, 0.0, 13.0, 86.5, 52.0, 7.8542, 211.3375, 10.5, 7.925, 8.05, 26.55, 20.525, 23.45, 7.75, 20.25, 7.25, 22.3583, 39.0, 23.0, 14.4583, 27.7208, 34.0208, 27.0, 7.65, 7.8958, 78.85, 7.0542, 6.95, 7.125, 15.85, 31.0, 27.9, 76.7292, 46.9, 31.3875, 83.475, 16.1, 20.575, 262.375, 120.0, 7.5208, 8.1125, 33.0, 73.5, 7.8792, 7.225, 263.0, 14.5, 90.0, 39.6875, 7.775, 24.15, 8.6625, 56.4958, 146.5208, 133.65, 34.375, 11.1333, 8.3, 30.6958, 31.275, 39.4, 7.2292, 7.3125, 8.6542, 78.2667, 40.125, 59.4, 7.7875, 9.35, 12.0, 7.7958, 6.8583, 7.6292, 9.475, 7.8292, 9.5875, 18.75, 9.825, 10.4625, 7.4958, 6.2375, 6.75, 7.725, 91.0792, 15.9, 13.5, 23.25, 89.1042, 12.475, 51.8625, 30.0, 35.5, 25.925, 135.6333, 12.275, 25.4667, 30.5, 15.0, 20.2125, 15.0458, 11.2417, 14.4542, 8.1583, 5.0, 16.7, 15.5, 22.525, 29.125, 19.5, 55.4417, 21.0, 30.0708, 49.5042, 9.8375, 19.9667, 19.2583, 65.0, 71.0, 8.85, 18.7875, 79.65, 76.2917, 15.2458, 26.25, 15.75, 39.6, 8.7125, 71.2833, 6.975, 12.2875, 221.7792, 108.9, 36.75, 17.4, 22.025, 21.075, 113.275, 15.7417, 9.8417, 25.5875, 29.7, 4.0125, 55.0, 7.8, 69.55, 25.9292, 151.55, 9.2167, 7.8875, 110.8833, 211.5, 55.9, 32.5, 77.9583, 77.2875, 106.425, 8.4042, 37.0042, 57.0, 26.2875, 12.35, 8.1375, 56.9292, 16.0, 27.75, 63.3583, 14.0, 13.8583, 15.55, 80.0, 9.0, 29.0, 51.4792, 61.9792, 82.1708, 41.5792, 79.2, 7.875, 8.5167, 53.1, 93.5, 227.525, 7.7333, 512.3292, 8.6833, 15.1, 7.0458, 10.5167, 61.3792, 7.7417, 9.8458, 13.7917, 6.4375, 8.3625, 6.4958, 69.3, 8.4333, 8.4583, 50.4958, 57.9792, 14.4, 7.7375, 164.8667, 28.7125, 7.7292, 12.875]\n"
     ]
    }
   ],
   "source": [
    "Fare_values = list(pd.unique(data[\"Fare\"]))\n",
    "print(\"Fare values: \")\n",
    "print(Fare_values)"
   ]
  },
  {
   "cell_type": "markdown",
   "id": "3e66d3f3",
   "metadata": {},
   "source": [
    "CHECKING UNIQUE VALUES IN CABIN COLUMN"
   ]
  },
  {
   "cell_type": "code",
   "execution_count": 147,
   "id": "66ab63e7",
   "metadata": {},
   "outputs": [
    {
     "name": "stdout",
     "output_type": "stream",
     "text": [
      "Cabin values: \n",
      "[nan, 'C91', 'B79', 'C126', 'B5', 'E101', 'E17', 'D46', 'A31', 'D33', 'C83', 'B57 B59 B63 B66', 'F33', 'B96 B98', 'C23 C25 C27', 'C93', 'B80', 'D28', 'D20', 'A10', 'C124', 'G6', 'B49', 'F G73', 'C46', 'C92', 'D21', 'E38', 'D45', 'B102', 'C52', 'C99', 'A26', 'C104', 'B51 B53 B55', 'B3', 'A19', 'B38', 'E50', 'C106', 'C90', 'B22', 'E67', 'D15', 'D', 'D56', 'E12', 'C85', 'C95', 'C65', 'F E69', 'E77', 'D36', 'F2', 'E58', 'B37', 'E33', 'D17', 'C22 C26', 'C87', 'C70', 'C82', 'E44', 'C30', 'A7', 'D11', 'D26', 'B20', 'C103', 'E25', 'C125', 'D49', 'E36', 'B50', 'F4', 'D7', 'D10 D12', 'D6', 'B28', 'B4', 'E68', 'A16', 'C101', 'B30', 'B41', 'A20', 'D30', 'B69', 'C111', 'B94', 'A6', 'E24', 'B101', 'T', 'C110', 'B86', 'E10', 'B35', 'B71', 'A24', 'B18', 'F G63', 'C68', 'C7', 'C49', 'C32', 'D48', 'B73']\n"
     ]
    }
   ],
   "source": [
    "Cabin_values = list(pd.unique(data[\"Cabin\"]))\n",
    "print(\"Cabin values: \")\n",
    "print(Cabin_values)"
   ]
  },
  {
   "cell_type": "markdown",
   "id": "9fac1bfd",
   "metadata": {},
   "source": [
    "CHECKING UNIQUE VALUES IN EMBARKED COLUMN"
   ]
  },
  {
   "cell_type": "code",
   "execution_count": 148,
   "id": "f28daf36",
   "metadata": {},
   "outputs": [
    {
     "name": "stdout",
     "output_type": "stream",
     "text": [
      "Embarked values: \n",
      "['S', 'C', 'Q', nan]\n"
     ]
    }
   ],
   "source": [
    "Embarked_values = list(pd.unique(data['Embarked']))\n",
    "print(\"Embarked values: \")\n",
    "print(Embarked_values)"
   ]
  },
  {
   "cell_type": "markdown",
   "id": "78cd13e6",
   "metadata": {},
   "source": [
    "DELETING CABIN COLUMN SINCE IT CONTAINS A LARGE AMOUNT OF NAN VALUES"
   ]
  },
  {
   "cell_type": "code",
   "execution_count": 149,
   "id": "32437e02",
   "metadata": {},
   "outputs": [
    {
     "name": "stdout",
     "output_type": "stream",
     "text": [
      "Number of rows before deleting NaN: 623\n",
      "Number of occurrences of NaN in the Cabin column: 486\n",
      "623\n"
     ]
    }
   ],
   "source": [
    "print(\"Number of rows before deleting NaN: \" + str(len(data)))\n",
    "\n",
    "print(\"Number of occurrences of NaN in the Cabin column: \" + str(data[\"Cabin\"].isna().sum()))\n",
    "\n",
    "data = data.drop([\"Cabin\"], axis=1)\n",
    "print(len(data))"
   ]
  },
  {
   "cell_type": "code",
   "execution_count": 150,
   "id": "1465ee61",
   "metadata": {},
   "outputs": [
    {
     "name": "stdout",
     "output_type": "stream",
     "text": [
      "498\n"
     ]
    }
   ],
   "source": [
    "# We remove the remaining NaN values, but we delete far fewer rows by removing the Cabin column sooner\n",
    "data = data.dropna()\n",
    "print(len(data))\n",
    "\n",
    "# We remove unnecessary columns with text data Name and Ticket and Fare, since we don't want to use this column in model.\n",
    "data = data.drop([\"Name\", \"Ticket\", \"Fare\"], axis=1)"
   ]
  },
  {
   "cell_type": "code",
   "execution_count": null,
   "id": "55b15eed",
   "metadata": {},
   "outputs": [],
   "source": []
  },
  {
   "cell_type": "code",
   "execution_count": 151,
   "id": "92eaed1b",
   "metadata": {},
   "outputs": [
    {
     "data": {
      "image/png": "[encoded data removed]",
      "text/plain": [
       "<Figure size 800x500 with 1 Axes>"
      ]
     },
     "metadata": {
      "needs_background": "light"
     },
     "output_type": "display_data"
    }
   ],
   "source": [
    "plt.figure(figsize=(8,5), dpi=100)\n",
    "sns.countplot(data=data, x='Sex', hue='Survived');"
   ]
  },
  {
   "cell_type": "code",
   "execution_count": 152,
   "id": "6f67b1e0",
   "metadata": {},
   "outputs": [
    {
     "data": {
      "image/png": "[encoded data removed]",
      "text/plain": [
       "<Figure size 800x500 with 1 Axes>"
      ]
     },
     "metadata": {
      "needs_background": "light"
     },
     "output_type": "display_data"
    }
   ],
   "source": [
    "plt.figure(figsize=(8,5), dpi=100)\n",
    "sns.countplot(data=data, x='Pclass', hue='Survived');"
   ]
  },
  {
   "cell_type": "code",
   "execution_count": 153,
   "id": "92d19cad",
   "metadata": {},
   "outputs": [
    {
     "data": {
      "image/png": "[encoded data removed]",
      "text/plain": [
       "<Figure size 800x500 with 1 Axes>"
      ]
     },
     "metadata": {
      "needs_background": "light"
     },
     "output_type": "display_data"
    }
   ],
   "source": [
    "plt.figure(figsize=(8,5), dpi=100)\n",
    "sns.countplot(data=data, x='Embarked', hue='Survived');"
   ]
  },
  {
   "cell_type": "markdown",
   "id": "35485af1",
   "metadata": {},
   "source": [
    "Converting categorical variable into dummy/indicator variables."
   ]
  },
  {
   "cell_type": "code",
   "execution_count": 154,
   "id": "b158805d",
   "metadata": {},
   "outputs": [
    {
     "data": {
      "text/html": [
       "<div>\n",
       "<style scoped>\n",
       "    .dataframe tbody tr th:only-of-type {\n",
       "        vertical-align: middle;\n",
       "    }\n",
       "\n",
       "    .dataframe tbody tr th {\n",
       "        vertical-align: top;\n",
       "    }\n",
       "\n",
       "    .dataframe thead th {\n",
       "        text-align: right;\n",
       "    }\n",
       "</style>\n",
       "<table border=\"1\" class=\"dataframe\">\n",
       "  <thead>\n",
       "    <tr style=\"text-align: right;\">\n",
       "      <th></th>\n",
       "      <th>Survived</th>\n",
       "      <th>PassengerId</th>\n",
       "      <th>Age</th>\n",
       "      <th>SibSp</th>\n",
       "      <th>Parch</th>\n",
       "      <th>Pclass_1</th>\n",
       "      <th>Pclass_2</th>\n",
       "      <th>Pclass_3</th>\n",
       "      <th>Sex_female</th>\n",
       "      <th>Sex_male</th>\n",
       "      <th>Embarked_C</th>\n",
       "      <th>Embarked_Q</th>\n",
       "      <th>Embarked_S</th>\n",
       "    </tr>\n",
       "  </thead>\n",
       "  <tbody>\n",
       "    <tr>\n",
       "      <th>0</th>\n",
       "      <td>0</td>\n",
       "      <td>530</td>\n",
       "      <td>23.0</td>\n",
       "      <td>2</td>\n",
       "      <td>1</td>\n",
       "      <td>0</td>\n",
       "      <td>1</td>\n",
       "      <td>0</td>\n",
       "      <td>0</td>\n",
       "      <td>1</td>\n",
       "      <td>0</td>\n",
       "      <td>0</td>\n",
       "      <td>1</td>\n",
       "    </tr>\n",
       "    <tr>\n",
       "      <th>1</th>\n",
       "      <td>0</td>\n",
       "      <td>466</td>\n",
       "      <td>38.0</td>\n",
       "      <td>0</td>\n",
       "      <td>0</td>\n",
       "      <td>0</td>\n",
       "      <td>0</td>\n",
       "      <td>1</td>\n",
       "      <td>0</td>\n",
       "      <td>1</td>\n",
       "      <td>0</td>\n",
       "      <td>0</td>\n",
       "      <td>1</td>\n",
       "    </tr>\n",
       "    <tr>\n",
       "      <th>2</th>\n",
       "      <td>0</td>\n",
       "      <td>753</td>\n",
       "      <td>33.0</td>\n",
       "      <td>0</td>\n",
       "      <td>0</td>\n",
       "      <td>0</td>\n",
       "      <td>0</td>\n",
       "      <td>1</td>\n",
       "      <td>0</td>\n",
       "      <td>1</td>\n",
       "      <td>0</td>\n",
       "      <td>0</td>\n",
       "      <td>1</td>\n",
       "    </tr>\n",
       "    <tr>\n",
       "      <th>3</th>\n",
       "      <td>0</td>\n",
       "      <td>855</td>\n",
       "      <td>44.0</td>\n",
       "      <td>1</td>\n",
       "      <td>0</td>\n",
       "      <td>0</td>\n",
       "      <td>1</td>\n",
       "      <td>0</td>\n",
       "      <td>1</td>\n",
       "      <td>0</td>\n",
       "      <td>0</td>\n",
       "      <td>0</td>\n",
       "      <td>1</td>\n",
       "    </tr>\n",
       "    <tr>\n",
       "      <th>4</th>\n",
       "      <td>0</td>\n",
       "      <td>333</td>\n",
       "      <td>38.0</td>\n",
       "      <td>0</td>\n",
       "      <td>1</td>\n",
       "      <td>1</td>\n",
       "      <td>0</td>\n",
       "      <td>0</td>\n",
       "      <td>0</td>\n",
       "      <td>1</td>\n",
       "      <td>0</td>\n",
       "      <td>0</td>\n",
       "      <td>1</td>\n",
       "    </tr>\n",
       "    <tr>\n",
       "      <th>...</th>\n",
       "      <td>...</td>\n",
       "      <td>...</td>\n",
       "      <td>...</td>\n",
       "      <td>...</td>\n",
       "      <td>...</td>\n",
       "      <td>...</td>\n",
       "      <td>...</td>\n",
       "      <td>...</td>\n",
       "      <td>...</td>\n",
       "      <td>...</td>\n",
       "      <td>...</td>\n",
       "      <td>...</td>\n",
       "      <td>...</td>\n",
       "    </tr>\n",
       "    <tr>\n",
       "      <th>617</th>\n",
       "      <td>1</td>\n",
       "      <td>609</td>\n",
       "      <td>22.0</td>\n",
       "      <td>1</td>\n",
       "      <td>2</td>\n",
       "      <td>0</td>\n",
       "      <td>1</td>\n",
       "      <td>0</td>\n",
       "      <td>1</td>\n",
       "      <td>0</td>\n",
       "      <td>1</td>\n",
       "      <td>0</td>\n",
       "      <td>0</td>\n",
       "    </tr>\n",
       "    <tr>\n",
       "      <th>618</th>\n",
       "      <td>0</td>\n",
       "      <td>660</td>\n",
       "      <td>58.0</td>\n",
       "      <td>0</td>\n",
       "      <td>2</td>\n",
       "      <td>1</td>\n",
       "      <td>0</td>\n",
       "      <td>0</td>\n",
       "      <td>0</td>\n",
       "      <td>1</td>\n",
       "      <td>1</td>\n",
       "      <td>0</td>\n",
       "      <td>0</td>\n",
       "    </tr>\n",
       "    <tr>\n",
       "      <th>619</th>\n",
       "      <td>1</td>\n",
       "      <td>85</td>\n",
       "      <td>17.0</td>\n",
       "      <td>0</td>\n",
       "      <td>0</td>\n",
       "      <td>0</td>\n",
       "      <td>1</td>\n",
       "      <td>0</td>\n",
       "      <td>1</td>\n",
       "      <td>0</td>\n",
       "      <td>0</td>\n",
       "      <td>0</td>\n",
       "      <td>1</td>\n",
       "    </tr>\n",
       "    <tr>\n",
       "      <th>620</th>\n",
       "      <td>1</td>\n",
       "      <td>521</td>\n",
       "      <td>30.0</td>\n",
       "      <td>0</td>\n",
       "      <td>0</td>\n",
       "      <td>1</td>\n",
       "      <td>0</td>\n",
       "      <td>0</td>\n",
       "      <td>1</td>\n",
       "      <td>0</td>\n",
       "      <td>0</td>\n",
       "      <td>0</td>\n",
       "      <td>1</td>\n",
       "    </tr>\n",
       "    <tr>\n",
       "      <th>622</th>\n",
       "      <td>1</td>\n",
       "      <td>831</td>\n",
       "      <td>15.0</td>\n",
       "      <td>1</td>\n",
       "      <td>0</td>\n",
       "      <td>0</td>\n",
       "      <td>0</td>\n",
       "      <td>1</td>\n",
       "      <td>1</td>\n",
       "      <td>0</td>\n",
       "      <td>1</td>\n",
       "      <td>0</td>\n",
       "      <td>0</td>\n",
       "    </tr>\n",
       "  </tbody>\n",
       "</table>\n",
       "<p>498 rows × 13 columns</p>\n",
       "</div>"
      ],
      "text/plain": [
       "     Survived  PassengerId   Age  SibSp  Parch  Pclass_1  Pclass_2  Pclass_3  \\\n",
       "0           0          530  23.0      2      1         0         1         0   \n",
       "1           0          466  38.0      0      0         0         0         1   \n",
       "2           0          753  33.0      0      0         0         0         1   \n",
       "3           0          855  44.0      1      0         0         1         0   \n",
       "4           0          333  38.0      0      1         1         0         0   \n",
       "..        ...          ...   ...    ...    ...       ...       ...       ...   \n",
       "617         1          609  22.0      1      2         0         1         0   \n",
       "618         0          660  58.0      0      2         1         0         0   \n",
       "619         1           85  17.0      0      0         0         1         0   \n",
       "620         1          521  30.0      0      0         1         0         0   \n",
       "622         1          831  15.0      1      0         0         0         1   \n",
       "\n",
       "     Sex_female  Sex_male  Embarked_C  Embarked_Q  Embarked_S  \n",
       "0             0         1           0           0           1  \n",
       "1             0         1           0           0           1  \n",
       "2             0         1           0           0           1  \n",
       "3             1         0           0           0           1  \n",
       "4             0         1           0           0           1  \n",
       "..          ...       ...         ...         ...         ...  \n",
       "617           1         0           1           0           0  \n",
       "618           0         1           1           0           0  \n",
       "619           1         0           0           0           1  \n",
       "620           1         0           0           0           1  \n",
       "622           1         0           1           0           0  \n",
       "\n",
       "[498 rows x 13 columns]"
      ]
     },
     "execution_count": 154,
     "metadata": {},
     "output_type": "execute_result"
    }
   ],
   "source": [
    "data = pd.get_dummies(data, columns=[\"Pclass\", \"Sex\", \"Embarked\"])\n",
    "data"
   ]
  },
  {
   "cell_type": "markdown",
   "id": "bfbd02cd",
   "metadata": {},
   "source": [
    "We check if we have any Nan values"
   ]
  },
  {
   "cell_type": "code",
   "execution_count": 155,
   "id": "4c19466d",
   "metadata": {},
   "outputs": [
    {
     "data": {
      "text/plain": [
       "Survived       0\n",
       "PassengerId    0\n",
       "Age            0\n",
       "SibSp          0\n",
       "Parch          0\n",
       "Pclass_1       0\n",
       "Pclass_2       0\n",
       "Pclass_3       0\n",
       "Sex_female     0\n",
       "Sex_male       0\n",
       "Embarked_C     0\n",
       "Embarked_Q     0\n",
       "Embarked_S     0\n",
       "dtype: int64"
      ]
     },
     "execution_count": 155,
     "metadata": {},
     "output_type": "execute_result"
    }
   ],
   "source": [
    "data.isnull().sum()"
   ]
  },
  {
   "cell_type": "markdown",
   "id": "23907ad5",
   "metadata": {},
   "source": [
    "We select features for our model, we divide the sets into training and test sets"
   ]
  },
  {
   "cell_type": "code",
   "execution_count": 156,
   "id": "c316bea5",
   "metadata": {},
   "outputs": [
    {
     "name": "stdout",
     "output_type": "stream",
     "text": [
      "Y_TRAIN SHAPE:  (398, 1)\n",
      "X_TRAIN SHAPE:  (398, 9)\n",
      "X_TEST SHAPE: (100, 9)\n"
     ]
    }
   ],
   "source": [
    "FEATURES = [\n",
    "    \"Sex_female\",\n",
    "    \"Sex_male\",\n",
    "    \"Age\",\n",
    "    \"Pclass_1\",\n",
    "    \"Pclass_2\",\n",
    "    \"Pclass_3\",\n",
    "    \"Embarked_C\",\n",
    "    \"Embarked_Q\",\n",
    "    \"Embarked_S\"\n",
    "]\n",
    "\n",
    "split_point = int(0.8*len(data))\n",
    "data_train, data_test = train_test_split(data, test_size=0.2)\n",
    "\n",
    "y_train = pd.DataFrame(data_train[\"Survived\"])\n",
    "x_train = pd.DataFrame(data_train[FEATURES])\n",
    "x_test = pd.DataFrame(data_test[FEATURES])\n",
    "\n",
    "model = LogisticRegression(max_iter=100)\n",
    "model.fit(x_train, y_train.values.ravel())\n",
    "\n",
    "print(\"Y_TRAIN SHAPE: \",  y_train.shape)\n",
    "print(\"X_TRAIN SHAPE: \", x_train.shape)\n",
    "print(\"X_TEST SHAPE:\", x_test.shape)"
   ]
  },
  {
   "cell_type": "code",
   "execution_count": 157,
   "id": "62d60e76",
   "metadata": {},
   "outputs": [
    {
     "name": "stdout",
     "output_type": "stream",
     "text": [
      "     Survived\n",
      "21          0\n",
      "96          1\n",
      "387         1\n",
      "548         1\n",
      "105         0\n",
      "30          0\n",
      "340         1\n",
      "195         0\n",
      "267         0\n",
      "541         0\n",
      "[0 1 1 1 0 0 1 0 0 0]\n"
     ]
    }
   ],
   "source": [
    "y_expected = pd.DataFrame(data_test[\"Survived\"])\n",
    "y_predicted = model.predict(x_test)\n",
    "print(y_expected[:10])\n",
    "print(y_predicted[:10])"
   ]
  },
  {
   "cell_type": "markdown",
   "id": "49905177",
   "metadata": {},
   "source": [
    "Classification evaluation using precision_recall_fscore_support"
   ]
  },
  {
   "cell_type": "code",
   "execution_count": 158,
   "id": "90ed707b",
   "metadata": {},
   "outputs": [
    {
     "name": "stdout",
     "output_type": "stream",
     "text": [
      "Precision: 0.8\n",
      "Recall: 0.8\n",
      "F-score: 0.8000000000000002\n",
      "Model score: 0.8\n"
     ]
    }
   ],
   "source": [
    "precision, recall, fscore, support = precision_recall_fscore_support(y_expected, y_predicted, average=\"micro\")\n",
    "\n",
    "print(f\"Precision: {precision}\")\n",
    "print(f\"Recall: {recall}\")\n",
    "print(f\"F-score: {fscore}\")\n",
    "\n",
    "score = model.score(x_test, y_expected)\n",
    "\n",
    "print(f\"Model score: {score}\")"
   ]
  },
  {
   "cell_type": "markdown",
   "id": "7e17673f",
   "metadata": {},
   "source": [
    "Classification evaluation using classification_report"
   ]
  },
  {
   "cell_type": "code",
   "execution_count": 159,
   "id": "799d1eba",
   "metadata": {},
   "outputs": [
    {
     "name": "stdout",
     "output_type": "stream",
     "text": [
      "              precision    recall  f1-score   support\n",
      "\n",
      "           0       0.80      0.88      0.84        58\n",
      "           1       0.81      0.69      0.74        42\n",
      "\n",
      "    accuracy                           0.80       100\n",
      "   macro avg       0.80      0.78      0.79       100\n",
      "weighted avg       0.80      0.80      0.80       100\n",
      "\n"
     ]
    }
   ],
   "source": [
    "print(classification_report(y_expected, y_predicted))"
   ]
  }
 ],
 "metadata": {
  "kernelspec": {
   "display_name": "Python 3 (ipykernel)",
   "language": "python",
   "name": "python3"
  },
  "language_info": {
   "codemirror_mode": {
    "name": "ipython",
    "version": 3
   },
   "file_extension": ".py",
   "mimetype": "text/x-python",
   "name": "python",
   "nbconvert_exporter": "python",
   "pygments_lexer": "ipython3",
   "version": "3.8.2"
  }
 },
 "nbformat": 4,
 "nbformat_minor": 5
}
